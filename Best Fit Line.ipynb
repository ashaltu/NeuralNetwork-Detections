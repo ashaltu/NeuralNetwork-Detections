{
 "cells": [
  {
   "cell_type": "code",
   "execution_count": 86,
   "metadata": {},
   "outputs": [
    {
     "name": "stdout",
     "output_type": "stream",
     "text": [
      "Accuracy of 1000 tests: 51.04463811008857 percent\n"
     ]
    }
   ],
   "source": [
    "from statistics import mean\n",
    "import numpy as np\n",
    "import matplotlib.pyplot as plt\n",
    "from matplotlib import style\n",
    "import random\n",
    "\n",
    "style.use('fivethirtyeight')\n",
    "\n",
    "#xs = np.array([1,2,3,4,5,6], dtype=np.float64)\n",
    "#ys = np.array([5,4,6,5,6,7], dtype=np.float64)\n",
    "\n",
    "def create_dataset(howmuch, variance, step=2, correlation=False):\n",
    "    val = 1\n",
    "    ys = []\n",
    "    for i in range(howmuch):\n",
    "        y=val+random.randrange(-variance, variance)\n",
    "        ys.append(y)\n",
    "        if correlation and correlation == 'pos':\n",
    "            val+=step\n",
    "        elif correlation and correlation == 'neg':\n",
    "            val-=step\n",
    "        \n",
    "    xs = [i for i in range(howmuch)]\n",
    "    return np.array(xs, dtype=np.float64), np.array(ys, dtype=np.float64)\n",
    "\n",
    "def bfsai(xs,ys):\n",
    "    m = ((mean(xs) * mean(ys)) - mean(xs*ys)) / (mean(xs)*mean(xs) - mean(xs*xs))\n",
    "    b = mean(ys) - m*mean(xs)\n",
    "    return m, b\n",
    "\n",
    "def SE(ys_origin, ys_line):\n",
    "    return sum((ys_line-ys_origin)**2)\n",
    "\n",
    "def CE(ys_origin, ys_line):\n",
    "    return 1 - SE(ys_origin,ys_line)/SE(ys_origin,mean(ys_origin))\n",
    "\n",
    "times = 1000\n",
    "total=0\n",
    "for i in range(times):\n",
    "    \n",
    "    xs, ys = create_dataset(40,40,2,correlation='pos')\n",
    "    \n",
    "    m,b = bfsai(xs,ys)\n",
    "    rline = [(m*x)+b for x in xs]\n",
    "\n",
    "    total+= CE(ys, rline)\n",
    "\n",
    "accuracy = (total/times) * 100\n",
    "print(\"Accuracy of\",times,\"tests:\",accuracy,\"percent\")\n",
    "\n",
    "#plt.scatter(xs,ys)\n",
    "#plt.plot(xs,rline)\n",
    "#plt.show()\n",
    "#print(CE(ys, rline))"
   ]
  },
  {
   "cell_type": "code",
   "execution_count": null,
   "metadata": {},
   "outputs": [],
   "source": []
  }
 ],
 "metadata": {
  "kernelspec": {
   "display_name": "Python 3",
   "language": "python",
   "name": "python3"
  },
  "language_info": {
   "codemirror_mode": {
    "name": "ipython",
    "version": 3
   },
   "file_extension": ".py",
   "mimetype": "text/x-python",
   "name": "python",
   "nbconvert_exporter": "python",
   "pygments_lexer": "ipython3",
   "version": "3.7.0"
  }
 },
 "nbformat": 4,
 "nbformat_minor": 2
}
