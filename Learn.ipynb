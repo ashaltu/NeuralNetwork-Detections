{
 "cells": [
  {
   "cell_type": "code",
   "execution_count": null,
   "metadata": {},
   "outputs": [],
   "source": [
    "height=76\n",
    "weight=165\n",
    "bmi = (703 * weight)/(height*height)\n",
    "print(\"Your BMI: %s\" %(bmi))\n",
    "\n",
    "if bmi < 18.5:\n",
    "    print(\"ur too skinny\")\n",
    "elif 18.5 <= bmi < 25:\n",
    "    print(\"u normal\")\n",
    "elif 25 <= bmi < 30:\n",
    "    print(\"u fat\")\n",
    "elif 30 <= bmi < 40:\n",
    "    print(\"u getting chunky dude\")\n",
    "else:\n",
    "    print(\"u muthafuckin fat\")\n"
   ]
  },
  {
   "cell_type": "code",
   "execution_count": null,
   "metadata": {},
   "outputs": [],
   "source": []
  },
  {
   "cell_type": "code",
   "execution_count": null,
   "metadata": {},
   "outputs": [],
   "source": []
  }
 ],
 "metadata": {
  "kernelspec": {
   "display_name": "Python 3",
   "language": "python",
   "name": "python3"
  },
  "language_info": {
   "codemirror_mode": {
    "name": "ipython",
    "version": 3
   },
   "file_extension": ".py",
   "mimetype": "text/x-python",
   "name": "python",
   "nbconvert_exporter": "python",
   "pygments_lexer": "ipython3",
   "version": "3.7.0"
  }
 },
 "nbformat": 4,
 "nbformat_minor": 2
}
